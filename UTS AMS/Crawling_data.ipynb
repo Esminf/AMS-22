{
  "cells": [
    {
      "cell_type": "markdown",
      "source": [
        "#**ESMI NUR FITRI - A12.2019.06175**"
      ],
      "metadata": {
        "id": "xAT5JwwW8w08"
      },
      "id": "xAT5JwwW8w08"
    },
    {
      "cell_type": "markdown",
      "source": [
        "Topik yang digunakan dalam analisis ini yaitu : sentimen masyarakat pada bubur diaduk dan bubur tidak diaduk, dimana data yang diambil yaitu berjumlah 100 dengan masing-masing keyword seperti \"bubur diaduk\", \"bubur gak diaduk\", dan \"bubur engga diaduk\" agar hasil akhir data yang akan diklasifikasikan dapat mewakili topik dan mendapat akurasi yang cukup tinggi.  "
      ],
      "metadata": {
        "id": "wP-swsFe74t4"
      },
      "id": "wP-swsFe74t4"
    },
    {
      "cell_type": "code",
      "source": [
        "from google.colab import drive\n",
        "drive.mount('/content/drive')\n",
        "import sys\n",
        "sys.path.append('/content/drive/My Drive/Colab Notebooks')"
      ],
      "metadata": {
        "colab": {
          "base_uri": "https://localhost:8080/"
        },
        "id": "ZbrssasEaPSC",
        "outputId": "f78b7bf3-1977-4884-c6ea-28d603e52c82"
      },
      "id": "ZbrssasEaPSC",
      "execution_count": 4,
      "outputs": [
        {
          "output_type": "stream",
          "name": "stdout",
          "text": [
            "Drive already mounted at /content/drive; to attempt to forcibly remount, call drive.mount(\"/content/drive\", force_remount=True).\n"
          ]
        }
      ]
    },
    {
      "cell_type": "code",
      "source": [
        "!pip install tweepy "
      ],
      "metadata": {
        "colab": {
          "base_uri": "https://localhost:8080/"
        },
        "id": "MJ5Fo0tBaoeK",
        "outputId": "2805432a-27d8-4e15-fee7-fc2079bb808c"
      },
      "id": "MJ5Fo0tBaoeK",
      "execution_count": 5,
      "outputs": [
        {
          "output_type": "stream",
          "name": "stdout",
          "text": [
            "Looking in indexes: https://pypi.org/simple, https://us-python.pkg.dev/colab-wheels/public/simple/\n",
            "Requirement already satisfied: tweepy in /usr/local/lib/python3.7/dist-packages (3.10.0)\n",
            "Requirement already satisfied: six>=1.10.0 in /usr/local/lib/python3.7/dist-packages (from tweepy) (1.15.0)\n",
            "Requirement already satisfied: requests[socks]>=2.11.1 in /usr/local/lib/python3.7/dist-packages (from tweepy) (2.23.0)\n",
            "Requirement already satisfied: requests-oauthlib>=0.7.0 in /usr/local/lib/python3.7/dist-packages (from tweepy) (1.3.1)\n",
            "Requirement already satisfied: oauthlib>=3.0.0 in /usr/local/lib/python3.7/dist-packages (from requests-oauthlib>=0.7.0->tweepy) (3.2.2)\n",
            "Requirement already satisfied: urllib3!=1.25.0,!=1.25.1,<1.26,>=1.21.1 in /usr/local/lib/python3.7/dist-packages (from requests[socks]>=2.11.1->tweepy) (1.24.3)\n",
            "Requirement already satisfied: idna<3,>=2.5 in /usr/local/lib/python3.7/dist-packages (from requests[socks]>=2.11.1->tweepy) (2.10)\n",
            "Requirement already satisfied: certifi>=2017.4.17 in /usr/local/lib/python3.7/dist-packages (from requests[socks]>=2.11.1->tweepy) (2022.9.24)\n",
            "Requirement already satisfied: chardet<4,>=3.0.2 in /usr/local/lib/python3.7/dist-packages (from requests[socks]>=2.11.1->tweepy) (3.0.4)\n",
            "Requirement already satisfied: PySocks!=1.5.7,>=1.5.6 in /usr/local/lib/python3.7/dist-packages (from requests[socks]>=2.11.1->tweepy) (1.7.1)\n"
          ]
        }
      ]
    },
    {
      "cell_type": "code",
      "execution_count": 6,
      "id": "82b16119",
      "metadata": {
        "id": "82b16119"
      },
      "outputs": [],
      "source": [
        "import pandas as pd\n",
        "import time\n",
        "import tweepy\n",
        "import numpy as np\n",
        "from wordcloud import WordCloud\n",
        "import re\n",
        "from textblob import TextBlob\n",
        "from copy import deepcopy\n",
        "import string\n"
      ]
    },
    {
      "cell_type": "code",
      "execution_count": 7,
      "id": "9d05d8f0",
      "metadata": {
        "id": "9d05d8f0"
      },
      "outputs": [],
      "source": [
        "def twitter_config():\n",
        "    \"\"\"\n",
        "    Fungsi utilitas untuk mengkonfigurasi konsumsi file API Twitter dengan␣\n",
        "    ,!kunci yang disediakan.\n",
        "    \"\"\"\n",
        "    # Otentikasi dan akses menggunakan kunci:\n",
        "    auth = tweepy.OAuthHandler(\"1gL84DYYvFuXzHHhGi8Chabm7\",\"piLRoeP9Scpoi62ex9pKVso2ddQXcEZM0K3iNLEpdR99SY6QIx\")\n",
        "    auth.set_access_token(\"1572036271262011392-wMkVYaB1emY7rtncJWyUypYUWwQtcg\",\"QmJLO0AgAbB38gEvH6TJDarxOSMvAMmFTWjyCWnYOjWG2\")\n",
        "    # Kembalikan akses ke API:\n",
        "    api = tweepy.API(auth)\n",
        "    try:\n",
        "        api.verify_credentials()\n",
        "        print(\"Authentication OK\")\n",
        "    except:\n",
        "        print(\"Error during authentication\")\n",
        "    return api"
      ]
    },
    {
      "cell_type": "code",
      "execution_count": 8,
      "id": "061db95c",
      "metadata": {
        "colab": {
          "base_uri": "https://localhost:8080/"
        },
        "id": "061db95c",
        "outputId": "689b87ac-8240-4673-b5d0-491055e4e634"
      },
      "outputs": [
        {
          "output_type": "stream",
          "name": "stdout",
          "text": [
            "Authentication OK\n"
          ]
        }
      ],
      "source": [
        "# buat extractor object\n",
        "extractor = twitter_config()"
      ]
    },
    {
      "cell_type": "markdown",
      "source": [
        "##topik 1 : bubur gak diaduk"
      ],
      "metadata": {
        "id": "Lf3BW-NC7vJI"
      },
      "id": "Lf3BW-NC7vJI"
    },
    {
      "cell_type": "code",
      "source": [
        "tweets = extractor.search(q=\"bubur gak diaduk\", lang=\"id\", count=500)\n",
        "print(\"Tweets terambil: {}.\\n\".format(len(tweets)))"
      ],
      "metadata": {
        "colab": {
          "base_uri": "https://localhost:8080/"
        },
        "id": "ONvDtSzhvUgK",
        "outputId": "70ef7d55-7925-4892-ebee-faf48b6ea5e3"
      },
      "id": "ONvDtSzhvUgK",
      "execution_count": 9,
      "outputs": [
        {
          "output_type": "stream",
          "name": "stdout",
          "text": [
            "Tweets terambil: 100.\n",
            "\n"
          ]
        }
      ]
    },
    {
      "cell_type": "code",
      "source": [
        "dataset_search = pd.DataFrame(data=[tweet.text for tweet in tweets], columns=['Tweets'])\n",
        "\n",
        "# Kami membuat tampilan kerangka data:\n",
        "display(dataset_search.head(16))"
      ],
      "metadata": {
        "colab": {
          "base_uri": "https://localhost:8080/",
          "height": 551
        },
        "id": "m9Y2a29rvdBc",
        "outputId": "b8e6b7fc-41eb-4c91-c074-668e781b8302"
      },
      "id": "m9Y2a29rvdBc",
      "execution_count": 10,
      "outputs": [
        {
          "output_type": "display_data",
          "data": {
            "text/plain": [
              "                                               Tweets\n",
              "0   @agatharendrian itu memang gak bisa diganggu g...\n",
              "1    @LUNERPW Mantan tim bubur diaduk apa gak diaduk?\n",
              "2   @virtuaIbase gemes banget, gak papa kamu newco...\n",
              "3   @budhacemengan @Hilmi28 7. Bubur diaduk/gak di...\n",
              "4                         @FOODFESS2 bubur gak diaduk\n",
              "5   Dulu di Shinchan pernah ada cerita perdebatan ...\n",
              "6   Kesimpulannya, kamu tim bubur diaduk atau tim ...\n",
              "7                   tim bubur diaduk atau gak diaduk?\n",
              "8   6. how can i say it when he's being attractive...\n",
              "9           @ssefnum hi dari aku tim bubur gak diaduk\n",
              "10  @loveknouw Sebenernya bubur kalo gak dicampur ...\n",
              "11  RT @applepienma: Aku ... juga tim bubur gak di...\n",
              "12  RT @applepienma: Aku ... juga tim bubur gak di...\n",
              "13               Aku ... juga tim bubur gak diaduk. ✊\n",
              "14  @ssefnum Aku suka kucing tapi makan bubur gak ...\n",
              "15  apa! Kamu lupa ajaran bubur tidak diaduk?!” Be..."
            ],
            "text/html": [
              "\n",
              "  <div id=\"df-5e36b081-1010-4242-ac47-473fdd8aac73\">\n",
              "    <div class=\"colab-df-container\">\n",
              "      <div>\n",
              "<style scoped>\n",
              "    .dataframe tbody tr th:only-of-type {\n",
              "        vertical-align: middle;\n",
              "    }\n",
              "\n",
              "    .dataframe tbody tr th {\n",
              "        vertical-align: top;\n",
              "    }\n",
              "\n",
              "    .dataframe thead th {\n",
              "        text-align: right;\n",
              "    }\n",
              "</style>\n",
              "<table border=\"1\" class=\"dataframe\">\n",
              "  <thead>\n",
              "    <tr style=\"text-align: right;\">\n",
              "      <th></th>\n",
              "      <th>Tweets</th>\n",
              "    </tr>\n",
              "  </thead>\n",
              "  <tbody>\n",
              "    <tr>\n",
              "      <th>0</th>\n",
              "      <td>@agatharendrian itu memang gak bisa diganggu g...</td>\n",
              "    </tr>\n",
              "    <tr>\n",
              "      <th>1</th>\n",
              "      <td>@LUNERPW Mantan tim bubur diaduk apa gak diaduk?</td>\n",
              "    </tr>\n",
              "    <tr>\n",
              "      <th>2</th>\n",
              "      <td>@virtuaIbase gemes banget, gak papa kamu newco...</td>\n",
              "    </tr>\n",
              "    <tr>\n",
              "      <th>3</th>\n",
              "      <td>@budhacemengan @Hilmi28 7. Bubur diaduk/gak di...</td>\n",
              "    </tr>\n",
              "    <tr>\n",
              "      <th>4</th>\n",
              "      <td>@FOODFESS2 bubur gak diaduk</td>\n",
              "    </tr>\n",
              "    <tr>\n",
              "      <th>5</th>\n",
              "      <td>Dulu di Shinchan pernah ada cerita perdebatan ...</td>\n",
              "    </tr>\n",
              "    <tr>\n",
              "      <th>6</th>\n",
              "      <td>Kesimpulannya, kamu tim bubur diaduk atau tim ...</td>\n",
              "    </tr>\n",
              "    <tr>\n",
              "      <th>7</th>\n",
              "      <td>tim bubur diaduk atau gak diaduk?</td>\n",
              "    </tr>\n",
              "    <tr>\n",
              "      <th>8</th>\n",
              "      <td>6. how can i say it when he's being attractive...</td>\n",
              "    </tr>\n",
              "    <tr>\n",
              "      <th>9</th>\n",
              "      <td>@ssefnum hi dari aku tim bubur gak diaduk</td>\n",
              "    </tr>\n",
              "    <tr>\n",
              "      <th>10</th>\n",
              "      <td>@loveknouw Sebenernya bubur kalo gak dicampur ...</td>\n",
              "    </tr>\n",
              "    <tr>\n",
              "      <th>11</th>\n",
              "      <td>RT @applepienma: Aku ... juga tim bubur gak di...</td>\n",
              "    </tr>\n",
              "    <tr>\n",
              "      <th>12</th>\n",
              "      <td>RT @applepienma: Aku ... juga tim bubur gak di...</td>\n",
              "    </tr>\n",
              "    <tr>\n",
              "      <th>13</th>\n",
              "      <td>Aku ... juga tim bubur gak diaduk. ✊</td>\n",
              "    </tr>\n",
              "    <tr>\n",
              "      <th>14</th>\n",
              "      <td>@ssefnum Aku suka kucing tapi makan bubur gak ...</td>\n",
              "    </tr>\n",
              "    <tr>\n",
              "      <th>15</th>\n",
              "      <td>apa! Kamu lupa ajaran bubur tidak diaduk?!” Be...</td>\n",
              "    </tr>\n",
              "  </tbody>\n",
              "</table>\n",
              "</div>\n",
              "      <button class=\"colab-df-convert\" onclick=\"convertToInteractive('df-5e36b081-1010-4242-ac47-473fdd8aac73')\"\n",
              "              title=\"Convert this dataframe to an interactive table.\"\n",
              "              style=\"display:none;\">\n",
              "        \n",
              "  <svg xmlns=\"http://www.w3.org/2000/svg\" height=\"24px\"viewBox=\"0 0 24 24\"\n",
              "       width=\"24px\">\n",
              "    <path d=\"M0 0h24v24H0V0z\" fill=\"none\"/>\n",
              "    <path d=\"M18.56 5.44l.94 2.06.94-2.06 2.06-.94-2.06-.94-.94-2.06-.94 2.06-2.06.94zm-11 1L8.5 8.5l.94-2.06 2.06-.94-2.06-.94L8.5 2.5l-.94 2.06-2.06.94zm10 10l.94 2.06.94-2.06 2.06-.94-2.06-.94-.94-2.06-.94 2.06-2.06.94z\"/><path d=\"M17.41 7.96l-1.37-1.37c-.4-.4-.92-.59-1.43-.59-.52 0-1.04.2-1.43.59L10.3 9.45l-7.72 7.72c-.78.78-.78 2.05 0 2.83L4 21.41c.39.39.9.59 1.41.59.51 0 1.02-.2 1.41-.59l7.78-7.78 2.81-2.81c.8-.78.8-2.07 0-2.86zM5.41 20L4 18.59l7.72-7.72 1.47 1.35L5.41 20z\"/>\n",
              "  </svg>\n",
              "      </button>\n",
              "      \n",
              "  <style>\n",
              "    .colab-df-container {\n",
              "      display:flex;\n",
              "      flex-wrap:wrap;\n",
              "      gap: 12px;\n",
              "    }\n",
              "\n",
              "    .colab-df-convert {\n",
              "      background-color: #E8F0FE;\n",
              "      border: none;\n",
              "      border-radius: 50%;\n",
              "      cursor: pointer;\n",
              "      display: none;\n",
              "      fill: #1967D2;\n",
              "      height: 32px;\n",
              "      padding: 0 0 0 0;\n",
              "      width: 32px;\n",
              "    }\n",
              "\n",
              "    .colab-df-convert:hover {\n",
              "      background-color: #E2EBFA;\n",
              "      box-shadow: 0px 1px 2px rgba(60, 64, 67, 0.3), 0px 1px 3px 1px rgba(60, 64, 67, 0.15);\n",
              "      fill: #174EA6;\n",
              "    }\n",
              "\n",
              "    [theme=dark] .colab-df-convert {\n",
              "      background-color: #3B4455;\n",
              "      fill: #D2E3FC;\n",
              "    }\n",
              "\n",
              "    [theme=dark] .colab-df-convert:hover {\n",
              "      background-color: #434B5C;\n",
              "      box-shadow: 0px 1px 3px 1px rgba(0, 0, 0, 0.15);\n",
              "      filter: drop-shadow(0px 1px 2px rgba(0, 0, 0, 0.3));\n",
              "      fill: #FFFFFF;\n",
              "    }\n",
              "  </style>\n",
              "\n",
              "      <script>\n",
              "        const buttonEl =\n",
              "          document.querySelector('#df-5e36b081-1010-4242-ac47-473fdd8aac73 button.colab-df-convert');\n",
              "        buttonEl.style.display =\n",
              "          google.colab.kernel.accessAllowed ? 'block' : 'none';\n",
              "\n",
              "        async function convertToInteractive(key) {\n",
              "          const element = document.querySelector('#df-5e36b081-1010-4242-ac47-473fdd8aac73');\n",
              "          const dataTable =\n",
              "            await google.colab.kernel.invokeFunction('convertToInteractive',\n",
              "                                                     [key], {});\n",
              "          if (!dataTable) return;\n",
              "\n",
              "          const docLinkHtml = 'Like what you see? Visit the ' +\n",
              "            '<a target=\"_blank\" href=https://colab.research.google.com/notebooks/data_table.ipynb>data table notebook</a>'\n",
              "            + ' to learn more about interactive tables.';\n",
              "          element.innerHTML = '';\n",
              "          dataTable['output_type'] = 'display_data';\n",
              "          await google.colab.output.renderOutput(dataTable, element);\n",
              "          const docLink = document.createElement('div');\n",
              "          docLink.innerHTML = docLinkHtml;\n",
              "          element.appendChild(docLink);\n",
              "        }\n",
              "      </script>\n",
              "    </div>\n",
              "  </div>\n",
              "  "
            ]
          },
          "metadata": {}
        }
      ]
    },
    {
      "cell_type": "code",
      "source": [
        "dataset_search.to_excel('/content/drive/My Drive/Colab Notebooks/buburgakdiaduk_UTS_AMS.xlsx')"
      ],
      "metadata": {
        "id": "r04916ZcdCZa"
      },
      "id": "r04916ZcdCZa",
      "execution_count": 11,
      "outputs": []
    },
    {
      "cell_type": "markdown",
      "source": [
        "##Topik 2 : bubur engga diaduk"
      ],
      "metadata": {
        "id": "KFVXpZmq7mD5"
      },
      "id": "KFVXpZmq7mD5"
    },
    {
      "cell_type": "code",
      "source": [
        "tweets = extractor.search(q=\"bubur engga diaduk\", lang=\"id\", count=500)\n",
        "print(\"Tweets terambil: {}.\\n\".format(len(tweets)))"
      ],
      "metadata": {
        "colab": {
          "base_uri": "https://localhost:8080/"
        },
        "outputId": "7efb109f-13e2-4678-d413-8d89d212aaeb",
        "id": "EjpDcZiS7j4B"
      },
      "execution_count": 12,
      "outputs": [
        {
          "output_type": "stream",
          "name": "stdout",
          "text": [
            "Tweets terambil: 80.\n",
            "\n"
          ]
        }
      ],
      "id": "EjpDcZiS7j4B"
    },
    {
      "cell_type": "code",
      "source": [
        "dataset_search = pd.DataFrame(data=[tweet.text for tweet in tweets], columns=['Tweets'])\n",
        "\n",
        "# Kami membuat tampilan kerangka data:\n",
        "display(dataset_search.head(16))"
      ],
      "metadata": {
        "colab": {
          "base_uri": "https://localhost:8080/",
          "height": 551
        },
        "outputId": "639706c0-1c54-494e-ea81-5dfeeef51c67",
        "id": "QRCT6ZCX7j46"
      },
      "execution_count": 13,
      "outputs": [
        {
          "output_type": "display_data",
          "data": {
            "text/plain": [
              "                                               Tweets\n",
              "0   @TXTdariHunter Kalian tim bubur diaduk atau en...\n",
              "1   RT @Temblog69: We can't just agree do to disag...\n",
              "2   kenapa orang2 berantem antara bubur diaduk ata...\n",
              "3   @istanwithu ENGGA. makan bubur di aduk aja ane...\n",
              "4   @mudahsinyal mau diaduk atau engga, bubur pali...\n",
              "5   @irnakkkkkkkkkkk noooo mba kamu harus join sek...\n",
              "6   @gimssejeong ( lebih suka bubur diaduk / engga...\n",
              "7   @JOHGlN ( lebih suka bubur diaduk / engga diad...\n",
              "8   @iajoyy ( lebih suka bubur diaduk / engga diad...\n",
              "9   @bestmoody ( lebih suka bubur diaduk / engga d...\n",
              "10  @jaecgar ( lebih suka bubur diaduk / engga dia...\n",
              "11  @miaknae ( lebih suka bubur diaduk / engga dia...\n",
              "12  @xioutinc ( lebih suka bubur diaduk / engga di...\n",
              "13  @itsrousei ( lebih suka bubur diaduk / engga d...\n",
              "14  @fKimMingyu ( lebih suka bubur diaduk / engga ...\n",
              "15  @teduhj ( lebih suka bubur diaduk / engga diad..."
            ],
            "text/html": [
              "\n",
              "  <div id=\"df-b7d6cca5-bdbe-4bf7-9d81-f60780a7c3ad\">\n",
              "    <div class=\"colab-df-container\">\n",
              "      <div>\n",
              "<style scoped>\n",
              "    .dataframe tbody tr th:only-of-type {\n",
              "        vertical-align: middle;\n",
              "    }\n",
              "\n",
              "    .dataframe tbody tr th {\n",
              "        vertical-align: top;\n",
              "    }\n",
              "\n",
              "    .dataframe thead th {\n",
              "        text-align: right;\n",
              "    }\n",
              "</style>\n",
              "<table border=\"1\" class=\"dataframe\">\n",
              "  <thead>\n",
              "    <tr style=\"text-align: right;\">\n",
              "      <th></th>\n",
              "      <th>Tweets</th>\n",
              "    </tr>\n",
              "  </thead>\n",
              "  <tbody>\n",
              "    <tr>\n",
              "      <th>0</th>\n",
              "      <td>@TXTdariHunter Kalian tim bubur diaduk atau en...</td>\n",
              "    </tr>\n",
              "    <tr>\n",
              "      <th>1</th>\n",
              "      <td>RT @Temblog69: We can't just agree do to disag...</td>\n",
              "    </tr>\n",
              "    <tr>\n",
              "      <th>2</th>\n",
              "      <td>kenapa orang2 berantem antara bubur diaduk ata...</td>\n",
              "    </tr>\n",
              "    <tr>\n",
              "      <th>3</th>\n",
              "      <td>@istanwithu ENGGA. makan bubur di aduk aja ane...</td>\n",
              "    </tr>\n",
              "    <tr>\n",
              "      <th>4</th>\n",
              "      <td>@mudahsinyal mau diaduk atau engga, bubur pali...</td>\n",
              "    </tr>\n",
              "    <tr>\n",
              "      <th>5</th>\n",
              "      <td>@irnakkkkkkkkkkk noooo mba kamu harus join sek...</td>\n",
              "    </tr>\n",
              "    <tr>\n",
              "      <th>6</th>\n",
              "      <td>@gimssejeong ( lebih suka bubur diaduk / engga...</td>\n",
              "    </tr>\n",
              "    <tr>\n",
              "      <th>7</th>\n",
              "      <td>@JOHGlN ( lebih suka bubur diaduk / engga diad...</td>\n",
              "    </tr>\n",
              "    <tr>\n",
              "      <th>8</th>\n",
              "      <td>@iajoyy ( lebih suka bubur diaduk / engga diad...</td>\n",
              "    </tr>\n",
              "    <tr>\n",
              "      <th>9</th>\n",
              "      <td>@bestmoody ( lebih suka bubur diaduk / engga d...</td>\n",
              "    </tr>\n",
              "    <tr>\n",
              "      <th>10</th>\n",
              "      <td>@jaecgar ( lebih suka bubur diaduk / engga dia...</td>\n",
              "    </tr>\n",
              "    <tr>\n",
              "      <th>11</th>\n",
              "      <td>@miaknae ( lebih suka bubur diaduk / engga dia...</td>\n",
              "    </tr>\n",
              "    <tr>\n",
              "      <th>12</th>\n",
              "      <td>@xioutinc ( lebih suka bubur diaduk / engga di...</td>\n",
              "    </tr>\n",
              "    <tr>\n",
              "      <th>13</th>\n",
              "      <td>@itsrousei ( lebih suka bubur diaduk / engga d...</td>\n",
              "    </tr>\n",
              "    <tr>\n",
              "      <th>14</th>\n",
              "      <td>@fKimMingyu ( lebih suka bubur diaduk / engga ...</td>\n",
              "    </tr>\n",
              "    <tr>\n",
              "      <th>15</th>\n",
              "      <td>@teduhj ( lebih suka bubur diaduk / engga diad...</td>\n",
              "    </tr>\n",
              "  </tbody>\n",
              "</table>\n",
              "</div>\n",
              "      <button class=\"colab-df-convert\" onclick=\"convertToInteractive('df-b7d6cca5-bdbe-4bf7-9d81-f60780a7c3ad')\"\n",
              "              title=\"Convert this dataframe to an interactive table.\"\n",
              "              style=\"display:none;\">\n",
              "        \n",
              "  <svg xmlns=\"http://www.w3.org/2000/svg\" height=\"24px\"viewBox=\"0 0 24 24\"\n",
              "       width=\"24px\">\n",
              "    <path d=\"M0 0h24v24H0V0z\" fill=\"none\"/>\n",
              "    <path d=\"M18.56 5.44l.94 2.06.94-2.06 2.06-.94-2.06-.94-.94-2.06-.94 2.06-2.06.94zm-11 1L8.5 8.5l.94-2.06 2.06-.94-2.06-.94L8.5 2.5l-.94 2.06-2.06.94zm10 10l.94 2.06.94-2.06 2.06-.94-2.06-.94-.94-2.06-.94 2.06-2.06.94z\"/><path d=\"M17.41 7.96l-1.37-1.37c-.4-.4-.92-.59-1.43-.59-.52 0-1.04.2-1.43.59L10.3 9.45l-7.72 7.72c-.78.78-.78 2.05 0 2.83L4 21.41c.39.39.9.59 1.41.59.51 0 1.02-.2 1.41-.59l7.78-7.78 2.81-2.81c.8-.78.8-2.07 0-2.86zM5.41 20L4 18.59l7.72-7.72 1.47 1.35L5.41 20z\"/>\n",
              "  </svg>\n",
              "      </button>\n",
              "      \n",
              "  <style>\n",
              "    .colab-df-container {\n",
              "      display:flex;\n",
              "      flex-wrap:wrap;\n",
              "      gap: 12px;\n",
              "    }\n",
              "\n",
              "    .colab-df-convert {\n",
              "      background-color: #E8F0FE;\n",
              "      border: none;\n",
              "      border-radius: 50%;\n",
              "      cursor: pointer;\n",
              "      display: none;\n",
              "      fill: #1967D2;\n",
              "      height: 32px;\n",
              "      padding: 0 0 0 0;\n",
              "      width: 32px;\n",
              "    }\n",
              "\n",
              "    .colab-df-convert:hover {\n",
              "      background-color: #E2EBFA;\n",
              "      box-shadow: 0px 1px 2px rgba(60, 64, 67, 0.3), 0px 1px 3px 1px rgba(60, 64, 67, 0.15);\n",
              "      fill: #174EA6;\n",
              "    }\n",
              "\n",
              "    [theme=dark] .colab-df-convert {\n",
              "      background-color: #3B4455;\n",
              "      fill: #D2E3FC;\n",
              "    }\n",
              "\n",
              "    [theme=dark] .colab-df-convert:hover {\n",
              "      background-color: #434B5C;\n",
              "      box-shadow: 0px 1px 3px 1px rgba(0, 0, 0, 0.15);\n",
              "      filter: drop-shadow(0px 1px 2px rgba(0, 0, 0, 0.3));\n",
              "      fill: #FFFFFF;\n",
              "    }\n",
              "  </style>\n",
              "\n",
              "      <script>\n",
              "        const buttonEl =\n",
              "          document.querySelector('#df-b7d6cca5-bdbe-4bf7-9d81-f60780a7c3ad button.colab-df-convert');\n",
              "        buttonEl.style.display =\n",
              "          google.colab.kernel.accessAllowed ? 'block' : 'none';\n",
              "\n",
              "        async function convertToInteractive(key) {\n",
              "          const element = document.querySelector('#df-b7d6cca5-bdbe-4bf7-9d81-f60780a7c3ad');\n",
              "          const dataTable =\n",
              "            await google.colab.kernel.invokeFunction('convertToInteractive',\n",
              "                                                     [key], {});\n",
              "          if (!dataTable) return;\n",
              "\n",
              "          const docLinkHtml = 'Like what you see? Visit the ' +\n",
              "            '<a target=\"_blank\" href=https://colab.research.google.com/notebooks/data_table.ipynb>data table notebook</a>'\n",
              "            + ' to learn more about interactive tables.';\n",
              "          element.innerHTML = '';\n",
              "          dataTable['output_type'] = 'display_data';\n",
              "          await google.colab.output.renderOutput(dataTable, element);\n",
              "          const docLink = document.createElement('div');\n",
              "          docLink.innerHTML = docLinkHtml;\n",
              "          element.appendChild(docLink);\n",
              "        }\n",
              "      </script>\n",
              "    </div>\n",
              "  </div>\n",
              "  "
            ]
          },
          "metadata": {}
        }
      ],
      "id": "QRCT6ZCX7j46"
    },
    {
      "cell_type": "code",
      "source": [
        "dataset_search.to_excel('/content/drive/My Drive/Colab Notebooks/buburenggadiaduk_UTS_AMS.xlsx')"
      ],
      "metadata": {
        "id": "ALhAnOUF7j48"
      },
      "execution_count": 14,
      "outputs": [],
      "id": "ALhAnOUF7j48"
    },
    {
      "cell_type": "markdown",
      "source": [
        "##Topik 3 : bubur diaduk"
      ],
      "metadata": {
        "id": "OyTBnBG19g9y"
      },
      "id": "OyTBnBG19g9y"
    },
    {
      "cell_type": "code",
      "source": [
        "tweets = extractor.search(q=\"bubur diaduk\", lang=\"id\", count=500)\n",
        "print(\"Tweets terambil: {}.\\n\".format(len(tweets)))"
      ],
      "metadata": {
        "colab": {
          "base_uri": "https://localhost:8080/"
        },
        "outputId": "5cae2665-f294-423e-d9af-7c344ee8bbf3",
        "id": "l_sPttFK9d_A"
      },
      "execution_count": 15,
      "outputs": [
        {
          "output_type": "stream",
          "name": "stdout",
          "text": [
            "Tweets terambil: 100.\n",
            "\n"
          ]
        }
      ],
      "id": "l_sPttFK9d_A"
    },
    {
      "cell_type": "code",
      "source": [
        "dataset_search = pd.DataFrame(data=[tweet.text for tweet in tweets], columns=['Tweets'])\n",
        "\n",
        "# Kami membuat tampilan kerangka data:\n",
        "display(dataset_search.head(16))"
      ],
      "metadata": {
        "colab": {
          "base_uri": "https://localhost:8080/",
          "height": 551
        },
        "outputId": "b3f1c9f2-e1ee-4a97-966e-a54c81b45688",
        "id": "Ns_Dvw-N9d_o"
      },
      "execution_count": 16,
      "outputs": [
        {
          "output_type": "display_data",
          "data": {
            "text/plain": [
              "                                               Tweets\n",
              "0   Tim bubur diaduk atau ga nih? — tim ga makan b...\n",
              "1                       @Askrlfess Bubur harus diaduk\n",
              "2   RT @decibelkiller: ㅤ\\ntidak diaduk, yang penti...\n",
              "3   @agatharendrian itu memang gak bisa diganggu g...\n",
              "4   @FOODFESS2 Gua kalau beli bubur makan di tempa...\n",
              "5   @jihyomatahari_ @mahesanjayaa BUBUR DIADUK JAY...\n",
              "6        RT @agatharendrian: Kamu tim bubur diaduk si\n",
              "7    Kamu tim bubur diaduk si https://t.co/k4hF52dPlv\n",
              "8   @Jihagn udah dong kan aku yang jualan buburnya...\n",
              "9    @LUNERPW Mantan tim bubur diaduk apa gak diaduk?\n",
              "10                         @andihiyat Bubur yg diaduk\n",
              "11  @virtuaIbase gemes banget, gak papa kamu newco...\n",
              "12  @bbburluv ABSHIAJQAK JADI MAU BUBUR(⁠｡⁠•́⁠︿⁠•̀...\n",
              "13  bukan convobuilder, bubur diaduk enthusiast, c...\n",
              "14  @virtuaIbase Kebetulan saya butuh yang jamet-j...\n",
              "15  @budhacemengan @Hilmi28 7. Bubur diaduk/gak di..."
            ],
            "text/html": [
              "\n",
              "  <div id=\"df-dad79bfa-361a-4b1a-8052-9ed773b928f5\">\n",
              "    <div class=\"colab-df-container\">\n",
              "      <div>\n",
              "<style scoped>\n",
              "    .dataframe tbody tr th:only-of-type {\n",
              "        vertical-align: middle;\n",
              "    }\n",
              "\n",
              "    .dataframe tbody tr th {\n",
              "        vertical-align: top;\n",
              "    }\n",
              "\n",
              "    .dataframe thead th {\n",
              "        text-align: right;\n",
              "    }\n",
              "</style>\n",
              "<table border=\"1\" class=\"dataframe\">\n",
              "  <thead>\n",
              "    <tr style=\"text-align: right;\">\n",
              "      <th></th>\n",
              "      <th>Tweets</th>\n",
              "    </tr>\n",
              "  </thead>\n",
              "  <tbody>\n",
              "    <tr>\n",
              "      <th>0</th>\n",
              "      <td>Tim bubur diaduk atau ga nih? — tim ga makan b...</td>\n",
              "    </tr>\n",
              "    <tr>\n",
              "      <th>1</th>\n",
              "      <td>@Askrlfess Bubur harus diaduk</td>\n",
              "    </tr>\n",
              "    <tr>\n",
              "      <th>2</th>\n",
              "      <td>RT @decibelkiller: ㅤ\\ntidak diaduk, yang penti...</td>\n",
              "    </tr>\n",
              "    <tr>\n",
              "      <th>3</th>\n",
              "      <td>@agatharendrian itu memang gak bisa diganggu g...</td>\n",
              "    </tr>\n",
              "    <tr>\n",
              "      <th>4</th>\n",
              "      <td>@FOODFESS2 Gua kalau beli bubur makan di tempa...</td>\n",
              "    </tr>\n",
              "    <tr>\n",
              "      <th>5</th>\n",
              "      <td>@jihyomatahari_ @mahesanjayaa BUBUR DIADUK JAY...</td>\n",
              "    </tr>\n",
              "    <tr>\n",
              "      <th>6</th>\n",
              "      <td>RT @agatharendrian: Kamu tim bubur diaduk si</td>\n",
              "    </tr>\n",
              "    <tr>\n",
              "      <th>7</th>\n",
              "      <td>Kamu tim bubur diaduk si https://t.co/k4hF52dPlv</td>\n",
              "    </tr>\n",
              "    <tr>\n",
              "      <th>8</th>\n",
              "      <td>@Jihagn udah dong kan aku yang jualan buburnya...</td>\n",
              "    </tr>\n",
              "    <tr>\n",
              "      <th>9</th>\n",
              "      <td>@LUNERPW Mantan tim bubur diaduk apa gak diaduk?</td>\n",
              "    </tr>\n",
              "    <tr>\n",
              "      <th>10</th>\n",
              "      <td>@andihiyat Bubur yg diaduk</td>\n",
              "    </tr>\n",
              "    <tr>\n",
              "      <th>11</th>\n",
              "      <td>@virtuaIbase gemes banget, gak papa kamu newco...</td>\n",
              "    </tr>\n",
              "    <tr>\n",
              "      <th>12</th>\n",
              "      <td>@bbburluv ABSHIAJQAK JADI MAU BUBUR(⁠｡⁠•́⁠︿⁠•̀...</td>\n",
              "    </tr>\n",
              "    <tr>\n",
              "      <th>13</th>\n",
              "      <td>bukan convobuilder, bubur diaduk enthusiast, c...</td>\n",
              "    </tr>\n",
              "    <tr>\n",
              "      <th>14</th>\n",
              "      <td>@virtuaIbase Kebetulan saya butuh yang jamet-j...</td>\n",
              "    </tr>\n",
              "    <tr>\n",
              "      <th>15</th>\n",
              "      <td>@budhacemengan @Hilmi28 7. Bubur diaduk/gak di...</td>\n",
              "    </tr>\n",
              "  </tbody>\n",
              "</table>\n",
              "</div>\n",
              "      <button class=\"colab-df-convert\" onclick=\"convertToInteractive('df-dad79bfa-361a-4b1a-8052-9ed773b928f5')\"\n",
              "              title=\"Convert this dataframe to an interactive table.\"\n",
              "              style=\"display:none;\">\n",
              "        \n",
              "  <svg xmlns=\"http://www.w3.org/2000/svg\" height=\"24px\"viewBox=\"0 0 24 24\"\n",
              "       width=\"24px\">\n",
              "    <path d=\"M0 0h24v24H0V0z\" fill=\"none\"/>\n",
              "    <path d=\"M18.56 5.44l.94 2.06.94-2.06 2.06-.94-2.06-.94-.94-2.06-.94 2.06-2.06.94zm-11 1L8.5 8.5l.94-2.06 2.06-.94-2.06-.94L8.5 2.5l-.94 2.06-2.06.94zm10 10l.94 2.06.94-2.06 2.06-.94-2.06-.94-.94-2.06-.94 2.06-2.06.94z\"/><path d=\"M17.41 7.96l-1.37-1.37c-.4-.4-.92-.59-1.43-.59-.52 0-1.04.2-1.43.59L10.3 9.45l-7.72 7.72c-.78.78-.78 2.05 0 2.83L4 21.41c.39.39.9.59 1.41.59.51 0 1.02-.2 1.41-.59l7.78-7.78 2.81-2.81c.8-.78.8-2.07 0-2.86zM5.41 20L4 18.59l7.72-7.72 1.47 1.35L5.41 20z\"/>\n",
              "  </svg>\n",
              "      </button>\n",
              "      \n",
              "  <style>\n",
              "    .colab-df-container {\n",
              "      display:flex;\n",
              "      flex-wrap:wrap;\n",
              "      gap: 12px;\n",
              "    }\n",
              "\n",
              "    .colab-df-convert {\n",
              "      background-color: #E8F0FE;\n",
              "      border: none;\n",
              "      border-radius: 50%;\n",
              "      cursor: pointer;\n",
              "      display: none;\n",
              "      fill: #1967D2;\n",
              "      height: 32px;\n",
              "      padding: 0 0 0 0;\n",
              "      width: 32px;\n",
              "    }\n",
              "\n",
              "    .colab-df-convert:hover {\n",
              "      background-color: #E2EBFA;\n",
              "      box-shadow: 0px 1px 2px rgba(60, 64, 67, 0.3), 0px 1px 3px 1px rgba(60, 64, 67, 0.15);\n",
              "      fill: #174EA6;\n",
              "    }\n",
              "\n",
              "    [theme=dark] .colab-df-convert {\n",
              "      background-color: #3B4455;\n",
              "      fill: #D2E3FC;\n",
              "    }\n",
              "\n",
              "    [theme=dark] .colab-df-convert:hover {\n",
              "      background-color: #434B5C;\n",
              "      box-shadow: 0px 1px 3px 1px rgba(0, 0, 0, 0.15);\n",
              "      filter: drop-shadow(0px 1px 2px rgba(0, 0, 0, 0.3));\n",
              "      fill: #FFFFFF;\n",
              "    }\n",
              "  </style>\n",
              "\n",
              "      <script>\n",
              "        const buttonEl =\n",
              "          document.querySelector('#df-dad79bfa-361a-4b1a-8052-9ed773b928f5 button.colab-df-convert');\n",
              "        buttonEl.style.display =\n",
              "          google.colab.kernel.accessAllowed ? 'block' : 'none';\n",
              "\n",
              "        async function convertToInteractive(key) {\n",
              "          const element = document.querySelector('#df-dad79bfa-361a-4b1a-8052-9ed773b928f5');\n",
              "          const dataTable =\n",
              "            await google.colab.kernel.invokeFunction('convertToInteractive',\n",
              "                                                     [key], {});\n",
              "          if (!dataTable) return;\n",
              "\n",
              "          const docLinkHtml = 'Like what you see? Visit the ' +\n",
              "            '<a target=\"_blank\" href=https://colab.research.google.com/notebooks/data_table.ipynb>data table notebook</a>'\n",
              "            + ' to learn more about interactive tables.';\n",
              "          element.innerHTML = '';\n",
              "          dataTable['output_type'] = 'display_data';\n",
              "          await google.colab.output.renderOutput(dataTable, element);\n",
              "          const docLink = document.createElement('div');\n",
              "          docLink.innerHTML = docLinkHtml;\n",
              "          element.appendChild(docLink);\n",
              "        }\n",
              "      </script>\n",
              "    </div>\n",
              "  </div>\n",
              "  "
            ]
          },
          "metadata": {}
        }
      ],
      "id": "Ns_Dvw-N9d_o"
    },
    {
      "cell_type": "code",
      "source": [
        "dataset_search.to_excel('/content/drive/My Drive/Colab Notebooks/bubburdiaduk_UTS_AMS.xlsx')"
      ],
      "metadata": {
        "id": "rj3i2Z979d_p"
      },
      "execution_count": 17,
      "outputs": [],
      "id": "rj3i2Z979d_p"
    },
    {
      "cell_type": "markdown",
      "source": [
        "setelah seluruh data dicrawling maka selanjutnya data akan diberi label secara manual dengan 2 jenis sentimen, yaitu positif dan negatif. Karena 237 data yang didapatkan terdapat duplikat dan outlier maka data juga akan diseleksi secara manual dengan hasil akhir data berjumlah 98. "
      ],
      "metadata": {
        "id": "x7pQCwGf-7XZ"
      },
      "id": "x7pQCwGf-7XZ"
    }
  ],
  "metadata": {
    "kernelspec": {
      "display_name": "Python 3 (ipykernel)",
      "language": "python",
      "name": "python3"
    },
    "language_info": {
      "codemirror_mode": {
        "name": "ipython",
        "version": 3
      },
      "file_extension": ".py",
      "mimetype": "text/x-python",
      "name": "python",
      "nbconvert_exporter": "python",
      "pygments_lexer": "ipython3",
      "version": "3.9.7"
    },
    "colab": {
      "provenance": [],
      "collapsed_sections": []
    }
  },
  "nbformat": 4,
  "nbformat_minor": 5
}